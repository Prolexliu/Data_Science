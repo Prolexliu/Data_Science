{
 "cells": [
  {
   "cell_type": "markdown",
   "metadata": {},
   "source": [
    "# Project 1\n",
    "\n",
    "In this first project you will create a framework to scope out data science projects. This framework will provide you with a guide to develop a well-articulated problem statement and analysis plan that will be robust and reproducible."
   ]
  },
  {
   "cell_type": "markdown",
   "metadata": {},
   "source": [
    "### Read and evaluate the following problem statement: \n",
    "Determine which free-tier customers will covert to paying customers, using demographic data collected at signup (age, gender, location, and profession) and customer useage data (days since last log in, and activity score 1 = active user, 0= inactive user) based on Hooli data from Jan-Apr 2015. \n"
   ]
  },
  {
   "cell_type": "markdown",
   "metadata": {},
   "source": [
    "#### 1. What is the outcome?"
   ]
  },
  {
   "cell_type": "markdown",
   "metadata": {},
   "source": [
    "Answer:\n",
    "\n",
    "The outcome is usually the dependent variable of the study, which is depending on the independent variables. \n",
    "In this case, the outcome is the **free-tier customer that will convert to paying customers** "
   ]
  },
  {
   "cell_type": "markdown",
   "metadata": {},
   "source": [
    "#### 2. What are the predictors/covariates? "
   ]
  },
  {
   "cell_type": "markdown",
   "metadata": {},
   "source": [
    "Answer: \n",
    "\n",
    "The predictors/covariates are the independent variables\n",
    "In this case, **demographic data collected at signup** and **customer useage data** are the predictors/covariates\n"
   ]
  },
  {
   "cell_type": "markdown",
   "metadata": {},
   "source": [
    "#### 3. What timeframe is this data relevent for?"
   ]
  },
  {
   "cell_type": "markdown",
   "metadata": {},
   "source": [
    "Answer: \n",
    "\n",
    "The data is based on Hooli data from Jan 2015 to Apr 2015. This is the timeframe."
   ]
  },
  {
   "cell_type": "markdown",
   "metadata": {},
   "source": [
    "#### 4. What is the hypothesis?"
   ]
  },
  {
   "cell_type": "markdown",
   "metadata": {},
   "source": [
    "Answer: \n",
    "\n",
    "A free-tier customers will more likely to covert to paying customers \n",
    "    1. if they have a high activity score\n",
    "    2. if their days since last log in is closer to today\n",
    "    3. if their profession is an engineer\n",
    "\n",
    "by using the Hooli data from January to April 2015"
   ]
  },
  {
   "cell_type": "markdown",
   "metadata": {},
   "source": [
    "## Let's get started with our dataset"
   ]
  },
  {
   "cell_type": "markdown",
   "metadata": {},
   "source": [
    "#### 1. Create a data dictionary "
   ]
  },
  {
   "cell_type": "markdown",
   "metadata": {},
   "source": [
    "Answer: \n",
    "\n",
    "Variable | Data Type | Acceptable Values | Type of Variable | Description\n",
    ":------- | :-------- | :---------------- | :--------------- | :----------\n",
    "admit | Integer | 0, 1 | categorical | Inidicate if candidate was admit or not (admit=1, NOT admit = 0)\n",
    "gre | Integer | 260 ~ 346 | continuous | GRE test score\n",
    "gpa | Float | 0 ~ 4 | continuous | Grade points average (with 2 decimals)\n",
    "prestige | Integer | 1, 2, 3, 4 | categorical | Rank of applicant's undergraduate alma mater (1 being the highest, 4 as the lowest)\n"
   ]
  },
  {
   "cell_type": "markdown",
   "metadata": {},
   "source": [
    "We would like to explore the association between X and Y "
   ]
  },
  {
   "cell_type": "markdown",
   "metadata": {},
   "source": [
    "#### 2. What is the outcome?"
   ]
  },
  {
   "cell_type": "markdown",
   "metadata": {},
   "source": [
    "Answer:\n",
    "\n",
    "Indication of candidate admit to UCLA or not"
   ]
  },
  {
   "cell_type": "markdown",
   "metadata": {},
   "source": [
    "#### 3. What are the predictors/covariates? "
   ]
  },
  {
   "cell_type": "markdown",
   "metadata": {},
   "source": [
    "Answer:\n",
    "\n",
    "GRE score, GPA, Prestige level"
   ]
  },
  {
   "cell_type": "markdown",
   "metadata": {},
   "source": [
    "#### 4. What timeframe is this data relevent for?"
   ]
  },
  {
   "cell_type": "markdown",
   "metadata": {},
   "source": [
    "Answer:\n",
    "\n",
    "Timeframe for the data is unclear. The Blog was posted in 2013, the data could be anytime before the post."
   ]
  },
  {
   "cell_type": "markdown",
   "metadata": {},
   "source": [
    "#### 4. What is the hypothesis?"
   ]
  },
  {
   "cell_type": "markdown",
   "metadata": {},
   "source": [
    "Answer:\n",
    "\n",
    "Using the data from yhat's blog, Candidates will more likely to get admitted to UCLA\n",
    "    1. if their GRE scores are higher\n",
    "    2. if GPAs are higher\n",
    "    3. if the rank of their alma maters are higher"
   ]
  },
  {
   "cell_type": "markdown",
   "metadata": {},
   "source": [
    "    Using the above information, write a well-formed problem statement. \n"
   ]
  },
  {
   "cell_type": "markdown",
   "metadata": {},
   "source": [
    "## Problem Statement"
   ]
  },
  {
   "cell_type": "markdown",
   "metadata": {},
   "source": [
    "### Exploratory Analysis Plan"
   ]
  },
  {
   "cell_type": "markdown",
   "metadata": {},
   "source": [
    "Using the lab from a class as a guide, create an exploratory analysis plan. "
   ]
  },
  {
   "cell_type": "markdown",
   "metadata": {},
   "source": [
    "#### 1. What are the goals of the exploratory analysis? "
   ]
  },
  {
   "cell_type": "markdown",
   "metadata": {
    "collapsed": true
   },
   "source": [
    "Answer:\n",
    "\n",
    "The goals of the exploratory analysis is do a preliminary analysis to make sense and get insight of the data by looking at the patterns, trends, outliers, unexpected results ... etc.\n",
    "\n",
    "Also include:\n",
    "1. Spotting missing data\n",
    "2. Mapping out the underlying structure \n",
    "3. Identifying important variables\n",
    "4. Listing outliers\n",
    "\n"
   ]
  },
  {
   "cell_type": "markdown",
   "metadata": {},
   "source": [
    "#### 2a. What are the assumptions of the distribution of data? "
   ]
  },
  {
   "cell_type": "markdown",
   "metadata": {},
   "source": [
    "Answer:\n",
    "\n",
    "Normal distribution is a big assumption to make. It is very important to understand the distribution of the data before applying any statistical test. Generally we are assuming that the samples we aquired are from a population of data which follow the the normal distribution. This help to makse statistic alot easier and more feasible. \n",
    "\n",
    "\n",
    "We also assume that if we are collecting data from different group, even though the mean for different group will be different, the variance will be the same"
   ]
  },
  {
   "cell_type": "markdown",
   "metadata": {},
   "source": [
    "#### 2b. How will determine the distribution of your data? "
   ]
  },
  {
   "cell_type": "markdown",
   "metadata": {
    "collapsed": true
   },
   "source": [
    "Answer: \n",
    "\n",
    "The following will determine the normal distrubution:\n",
    "1. Mean - the location for the center of the graph\n",
    "2. Standard Deviation - how spread out the data is\n",
    "3. Skewness - measure of the asymmetry of the probability distribution\n",
    "4. Kurtosis - measure the data are peak of flat relative to perfect normal distribution\n"
   ]
  },
  {
   "cell_type": "markdown",
   "metadata": {},
   "source": [
    "#### 3a. How might outliers impact your analysis? "
   ]
  },
  {
   "cell_type": "markdown",
   "metadata": {
    "collapsed": true
   },
   "source": [
    "Answer:\n",
    "\n",
    "Outliers will heavily impact the mean of the data, which in terms will break the data away from being normally distributed."
   ]
  },
  {
   "cell_type": "markdown",
   "metadata": {},
   "source": [
    "#### 3b. How will you test for outliers? "
   ]
  },
  {
   "cell_type": "markdown",
   "metadata": {},
   "source": [
    "Answer:\n",
    "\n",
    "An outlier is if the data falls more than 1.5*IQR (interquartile range) above the upper (Q1) and lower(Q3) quartile.\n",
    "\n",
    "By sorting the data and calculate the upper and lower quartile and IQR. We can then calculate the boundary of the acceptable data. Anything outside the boundary will be an outlier\n",
    "\n",
    "\n",
    "Acceptable range (Inner Fences)\n",
    " Q1 - (1.5 * IQR) < Data < Q3 + (1.5 * IQR) "
   ]
  },
  {
   "cell_type": "markdown",
   "metadata": {},
   "source": [
    "#### 4a. What is colinearity? "
   ]
  },
  {
   "cell_type": "markdown",
   "metadata": {
    "collapsed": true
   },
   "source": [
    "Answer: \n",
    "\n",
    "If a set of data points are lying on a single line, then the data set have the property of collinearity\n",
    "\n",
    "In statisic, this means that there is correlation between the independent variables, and the independents variables has an linear relationship.  "
   ]
  },
  {
   "cell_type": "markdown",
   "metadata": {},
   "source": [
    "#### 4b. How will you test for colinearity? "
   ]
  },
  {
   "cell_type": "markdown",
   "metadata": {},
   "source": [
    "Answer:\n",
    "\n",
    "In the model we can spot a lagre changes in the estimate coefficent when an independent variable is introduced or removed from the model\n",
    "\n",
    "We can also test the colinearity using Variance inflation factor(VIF), if the VIF is 5 or 10 and above, this indicate a collinearity problem\n"
   ]
  },
  {
   "cell_type": "markdown",
   "metadata": {},
   "source": [
    "#### 5. What is your exploratory analysis plan?\n",
    "Using the above information, write an exploratory analysis plan that would allow you or a colleague to reproduce your analysis 1 year from now. "
   ]
  },
  {
   "cell_type": "markdown",
   "metadata": {},
   "source": [
    "Answer: \n",
    "\n",
    "1. Make assumption of the distribution, assuming the population is in normal distribution\n",
    "2. Make a simple plot to determine the distrubution of the data\n",
    "    1. Evalute: Mean, Medium, STD, Skewness and Kurtosis\n",
    "3. Do anaylsis for the any outliers\n",
    "    1. Calculating the inner fences with: Q1 - (1.5 IQR) < Data < Q3 + (1.5 IQR)\n",
    "4. Identify collinearity\n",
    "    1. Test using VIF"
   ]
  },
  {
   "cell_type": "markdown",
   "metadata": {},
   "source": [
    "## Bonus Questions:\n",
    "1. Outline your analysis method for predicting your outcome\n",
    "2. Write an alternative problem statement for your dataset\n",
    "3. Articulate the assumptions and risks of the alternative model"
   ]
  },
  {
   "cell_type": "code",
   "execution_count": null,
   "metadata": {
    "collapsed": true
   },
   "outputs": [],
   "source": []
  }
 ],
 "metadata": {
  "kernelspec": {
   "display_name": "Python 2",
   "language": "python",
   "name": "python2"
  },
  "language_info": {
   "codemirror_mode": {
    "name": "ipython",
    "version": 2
   },
   "file_extension": ".py",
   "mimetype": "text/x-python",
   "name": "python",
   "nbconvert_exporter": "python",
   "pygments_lexer": "ipython2",
   "version": "2.7.14"
  }
 },
 "nbformat": 4,
 "nbformat_minor": 1
}
